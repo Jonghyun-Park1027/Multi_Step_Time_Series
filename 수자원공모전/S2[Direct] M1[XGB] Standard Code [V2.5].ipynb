{
 "cells": [
  {
   "cell_type": "markdown",
   "id": "fa3e33b7",
   "metadata": {
    "pycharm": {
     "name": "#%% md\n"
    }
   },
   "source": [
    "# ==================================================\n",
    "# S1 (Direct Strategy)\n",
    "# M1 (CAT)\n",
    "# Standard Code _ Version 2.5 / KISLAB @ Kookmin University\n",
    "# =================================================="
   ]
  },
  {
   "cell_type": "markdown",
   "id": "8b17f65b",
   "metadata": {
    "pycharm": {
     "name": "#%% md\n"
    }
   },
   "source": [
    "# Load Library"
   ]
  },
  {
   "cell_type": "code",
   "execution_count": 14,
   "outputs": [],
   "source": [
    "# Data manipulation, visualization and useful functions\n",
    "import pandas as pd\n",
    "pd.options.display.float_format = '{:,.2f}'.format\n",
    "pd.options.display.max_rows = 50\n",
    "pd.options.display.max_columns = 40\n",
    "import numpy as np\n",
    "from tqdm import tqdm\n",
    "import matplotlib.pyplot as plt\n",
    "import seaborn as sns\n",
    "import matplotlib.dates as mdates\n",
    "\n",
    "# Modeling algorithms\n",
    "# General(Statistics/Econometrics)\n",
    "from sklearn import preprocessing\n",
    "import statsmodels.api as sm\n",
    "import statsmodels.tsa.api as smt\n",
    "import statsmodels.formula.api as smf\n",
    "\n",
    "# Regression\n",
    "from xgboost import XGBRegressor\n",
    "\n",
    "# Evaluation metrics for regression\n",
    "from sklearn.metrics import mean_absolute_percentage_error, mean_squared_error\n",
    "import joblib\n",
    "import tensorflow as tf\n",
    "\n",
    "import datetime\n",
    "import sys\n",
    "\n",
    "from keras.models import Sequential, Model, load_model\n",
    "from keras.layers import Input, Dense, Activation, Flatten, Dropout, BatchNormalization\n",
    "from tensorflow.keras.models import load_model\n",
    "import tensorflow as tf\n",
    "from keras.callbacks import ModelCheckpoint, EarlyStopping\n",
    "from tensorflow.keras.optimizers import Adam, SGD, Nadam\n",
    "import keras\n"
   ],
   "metadata": {
    "collapsed": false,
    "pycharm": {
     "name": "#%%\n"
    }
   }
  },
  {
   "cell_type": "markdown",
   "source": [
    "# Basic Options (for Extended Experiment)"
   ],
   "metadata": {
    "collapsed": false,
    "pycharm": {
     "name": "#%% md\n"
    }
   }
  },
  {
   "cell_type": "code",
   "execution_count": 15,
   "outputs": [],
   "source": [
    "# 기본 설정값\n",
    "SMCODE = \"COMPETITION\"  # S1(Direct Strategy) + M1(LGBM) 를 위한 Standard Code\n",
    "PDCODE = \"CITY\"  # 품종코드\n",
    "MDCODE = \"XGB\"  # 모델코드\n",
    "PDNAME = \"gumi\"  # 품종명(영문)\n",
    "VARS = 1  # 확장변수 사용여부 (1: 가격만 사용, 2: 거래량 추가사용)\n",
    "\n",
    "# 학습 기본변수 설정\n",
    "PARAMS = {'num_leaves': 555,\n",
    "          'min_child_weight': 0.034,\n",
    "          'feature_fraction': 0.379,\n",
    "          'bagging_fraction': 0.418,\n",
    "          'min_data_in_leaf': 106,\n",
    "          'objective': 'regression',\n",
    "          'max_depth': -1,\n",
    "          'learning_rate': 0.005,\n",
    "          \"boosting_type\": \"gbdt\",\n",
    "          \"bagging_seed\": 11,\n",
    "          \"metric\": 'rmse',\n",
    "          \"verbose\": -1,\n",
    "          'reg_alpha': 0.3899,\n",
    "          'reg_lambda': 0.648,\n",
    "          'random_state': 222,\n",
    "          }\n",
    "ITER = 2500  # LGBM의 학습 반복 횟수\n",
    "\n",
    "# Special Option 설정\n",
    "FRAC = 0  # 검증기간 데이터 중 학습 데이터에 추가로 포함시킬 데이터의 비중 (0~1)\n",
    "# 만약 테스트 데이터를 검증용으로 사용하고 싶다면, FRAC = 1로 설정한 뒤, SPLIT을 테스트 데이터 관측건수(D1은 365, D2는 210)으로 설정\n",
    "IRANGE = 365  # 가격 데이터를 입력으로 사용할 때 최대 총 며칠치 데이터를 사용할 것인지에 대한 옵션\n",
    "SPLIT = 0  # 이 값을 0으로 설정할 경우, validation 수행하지 않음\n",
    "WINSOR = 10  # 이상치 제거를 위한 Winsorizing 기준 설정 (단위: 퍼센트 / 이 값이 0일 경우, 이상치 제거 안함)\n",
    "\n",
    "# 검증기간 설정\n",
    "TEST_PERIOD = 1  # 1을 입력하면 D1으로 기간이 설정되고, 2로 지정하면 D2로 기간 설정\n",
    "\n",
    "if TEST_PERIOD == 1:\n",
    "    BASEDATE = '2020-12-31'  # 검증용 데이터의 시작 시점 (D1을 위한 설정)\n",
    "    USEDATE = '2021-12-31'  # 전체 사용할 데이터의 마지막 시점 (D1을 위한 설정)\n",
    "else:\n",
    "    BASEDATE = '2022-01-01'  # 검증용 데이터의 시작 시점 (D2를 위한 설정)\n",
    "    USEDATE = '2022-07-31'  # 전체 사용할 데이터의 마지막 시점 (D2를 위한 설정)\n",
    "\n",
    "SELECTED = [336]  # 예측모델을 개발할 선택 시점\n",
    "NSEL = len(SELECTED)  # 예측모델을 개발할 선택 시점의 총 갯수\n",
    "\n",
    "# ========= 결과 저장용 폴더 생성 ==============\n",
    "\n",
    "# System related and data input controls\n",
    "import os\n",
    "\n",
    "MODEL_DIR = 'MODEL_' + PDCODE + '_' + SMCODE + 'V' + str(VARS) + '_' + MDCODE\n",
    "\n",
    "if os.path.exists(MODEL_DIR) == False:\n",
    "    os.mkdir(f'{MODEL_DIR}')\n",
    "\n",
    "# ============= 데이터셋 로드 ================\n",
    "\n",
    "# Ignore the warnings\n",
    "import warnings\n",
    "\n",
    "#warnings.filterwarnings('always')\n",
    "warnings.filterwarnings('ignore')\n",
    "import pandas as pd\n",
    "\n",
    "#load data\n",
    "train = pd.read_csv('data_tr_city.csv', usecols=['datetime','구미 혁신도시배수지 유출유량 적산차'])\n",
    "test = pd.read_csv('data_ts_city.csv', usecols=['datetime','구미 혁신도시배수지 유출유량 적산차'])\n",
    "\n",
    "# train = train[train['품종']=='양파(일반)']\n",
    "#create 'datetime' column\n",
    "# if '일자' in train.columns:\n",
    "#     train['일자'] = pd.to_datetime(train['일자'])\n",
    "# train['datetime'] = pd.to_datetime(train['datetime'])\n",
    "\n",
    "#set datetime to index\n",
    "# if train.index.dtype == 'int64':\n",
    "#     train.set_index('datetime', inplace=True)\n",
    "\n",
    "# train.drop(['품종', '일자'], axis=1, inplace=True)\n",
    "# train.columns = ['Price', 'Volume']\n",
    "# for i in range(0, train.shape[0]):\n",
    "#     train['Volume'][i] = train['Volume'][i].replace(',','')\n",
    "# train['Volume'] = train['Volume'].astype('float32')\n",
    "\n",
    "#fill missing date & values\n",
    "# train.asfreq('H')[train.asfreq('H').isnull().sum(axis=1) > 0]\n",
    "# train = train.asfreq('H', method='ffill')\n"
   ],
   "metadata": {
    "collapsed": false,
    "pycharm": {
     "name": "#%%\n"
    }
   }
  },
  {
   "cell_type": "code",
   "execution_count": 16,
   "outputs": [],
   "source": [
    "train = train.rename(columns={\"구미 혁신도시배수지 유출유량 적산차\": \"Price\"})\n",
    "train.drop(index= [17558, 2127], inplace=True)\n",
    "train.drop(index=11995, inplace=True)\n",
    "\n",
    "train.dropna(inplace=True)\n",
    "train[\"Price\"] = train[\"Price\"].astype(int)\n",
    "\n",
    "drop_table = train.iloc[:,1].value_counts().sort_values() ==1\n",
    "#drop table 생성\n",
    "drop_table = drop_table.reset_index(name=\"drop\")\n",
    "drop_table = drop_table.rename(columns=  {\"index\":\"Price\"})\n",
    "test = pd.merge(train, drop_table, how='left', on = \"Price\")\n",
    "drop_table = test[\"drop\"]\n",
    "train = test.loc[~drop_table]\n",
    "train.drop(columns=\"drop\", inplace= True)\n",
    "train['datetime'] = pd.to_datetime(train['datetime'], format='%Y-%m-%d %H:%M:%S')\n",
    "train.set_index('datetime', inplace=True, drop=True)\n",
    "train[\"Price\"] = train.loc[:,\"Price\"].astype(int)\n",
    "\n",
    "train = train.asfreq(freq='H',method='ffill')\n",
    "# 제거되었던 91(80+11)개의 결측값이 ffill(과거값)을 통해 새로 작성됨\n",
    "#총 35063개의 row"
   ],
   "metadata": {
    "collapsed": false,
    "pycharm": {
     "name": "#%%\n"
    }
   }
  },
  {
   "cell_type": "code",
   "execution_count": 17,
   "outputs": [],
   "source": [
    "test = test.rename(columns={\"구미 혁신도시배수지 유출유량 적산차\": \"Price\"})\n",
    "\n",
    "test.dropna(inplace=True)\n",
    "test[\"Price\"] = test[\"Price\"].astype(int)\n",
    "\n",
    "\n",
    "test['datetime'] = pd.to_datetime(test['datetime'], format='%Y-%m-%d %H:%M:%S')\n",
    "test.set_index('datetime', inplace=True, drop=True)\n",
    "test[\"Price\"] = test.loc[:,\"Price\"].astype(int)\n",
    "\n",
    "# 제거되었던 91(80+11)개의 결측값이 ffill(과거값)을 통해 새로 작성됨\n",
    "#총 35063개의 row"
   ],
   "metadata": {
    "collapsed": false,
    "pycharm": {
     "name": "#%%\n"
    }
   }
  },
  {
   "cell_type": "markdown",
   "id": "92221f0d",
   "metadata": {
    "pycharm": {
     "name": "#%% md\n"
    }
   },
   "source": [
    "# Data Partitioning"
   ]
  },
  {
   "cell_type": "code",
   "execution_count": 61,
   "id": "83693377",
   "metadata": {
    "ExecuteTime": {
     "end_time": "2022-08-17T13:28:15.844445Z",
     "start_time": "2022-08-17T13:28:15.836473Z"
    },
    "pycharm": {
     "name": "#%%\n"
    }
   },
   "outputs": [],
   "source": [
    "# Raw dataset selection\n",
    "# raw = raw[raw.index <= USEDATE]\n",
    "\n",
    "# Train,Test split\n",
    "# test = raw[raw.index >= BASEDATE]\n",
    "# train = raw[raw.index < BASEDATE]\n",
    "# raw_idx = raw.index\n",
    "# train_idx = train.index"
   ]
  },
  {
   "cell_type": "code",
   "execution_count": 23,
   "outputs": [
    {
     "data": {
      "text/plain": "                     Price  Price_336lag  Price_337lag  Price_338lag  \\\ndatetime                                                               \n2017-01-30 05:00:00     34         34.00         34.00         40.00   \n2017-01-30 06:00:00     42         34.00         34.00         34.00   \n2017-01-30 07:00:00    133         91.00         34.00         34.00   \n2017-01-30 08:00:00    203        110.00         91.00         34.00   \n2017-01-30 09:00:00     34        178.00        110.00         91.00   \n...                    ...           ...           ...           ...   \n2020-12-31 19:00:00    328        322.00        142.00        237.00   \n2020-12-31 20:00:00    347        286.00        322.00        142.00   \n2020-12-31 21:00:00    335        377.00        286.00        322.00   \n2020-12-31 22:00:00    141        426.00        377.00        286.00   \n2020-12-31 23:00:00    112        392.00        426.00        377.00   \n\n                     Price_339lag  Price_340lag  Price_341lag  Price_342lag  \\\ndatetime                                                                      \n2017-01-30 05:00:00        119.00        238.00        459.00        358.00   \n2017-01-30 06:00:00         40.00        119.00        238.00        459.00   \n2017-01-30 07:00:00         34.00         40.00        119.00        238.00   \n2017-01-30 08:00:00         34.00         34.00         40.00        119.00   \n2017-01-30 09:00:00         34.00         34.00         34.00         40.00   \n...                           ...           ...           ...           ...   \n2020-12-31 19:00:00        307.00        383.00        336.00        336.00   \n2020-12-31 20:00:00        237.00        307.00        383.00        336.00   \n2020-12-31 21:00:00        142.00        237.00        307.00        383.00   \n2020-12-31 22:00:00        322.00        142.00        237.00        307.00   \n2020-12-31 23:00:00        286.00        322.00        142.00        237.00   \n\n                     Price_343lag  Price_344lag  Price_345lag  Price_346lag  \\\ndatetime                                                                      \n2017-01-30 05:00:00        133.00        138.00        273.00        188.00   \n2017-01-30 06:00:00        358.00        133.00        138.00        273.00   \n2017-01-30 07:00:00        459.00        358.00        133.00        138.00   \n2017-01-30 08:00:00        238.00        459.00        358.00        133.00   \n2017-01-30 09:00:00        119.00        238.00        459.00        358.00   \n...                           ...           ...           ...           ...   \n2020-12-31 19:00:00        344.00        158.00        138.00        388.00   \n2020-12-31 20:00:00        336.00        344.00        158.00        138.00   \n2020-12-31 21:00:00        336.00        336.00        344.00        158.00   \n2020-12-31 22:00:00        383.00        336.00        336.00        344.00   \n2020-12-31 23:00:00        307.00        383.00        336.00        336.00   \n\n                     Price_347lag  Price_348lag  Price_349lag  Price_350lag  \\\ndatetime                                                                      \n2017-01-30 05:00:00        336.00        125.00        198.00         67.00   \n2017-01-30 06:00:00        188.00        336.00        125.00        198.00   \n2017-01-30 07:00:00        273.00        188.00        336.00        125.00   \n2017-01-30 08:00:00        138.00        273.00        188.00        336.00   \n2017-01-30 09:00:00        133.00        138.00        273.00        188.00   \n...                           ...           ...           ...           ...   \n2020-12-31 19:00:00        188.00        279.00         89.00         66.00   \n2020-12-31 20:00:00        388.00        188.00        279.00         89.00   \n2020-12-31 21:00:00        138.00        388.00        188.00        279.00   \n2020-12-31 22:00:00        158.00        138.00        388.00        188.00   \n2020-12-31 23:00:00        344.00        158.00        138.00        388.00   \n\n                     Price_351lag  Price_352lag  Price_353lag  Price_354lag  \\\ndatetime                                                                      \n2017-01-30 05:00:00        160.00        143.00        439.00        187.00   \n2017-01-30 06:00:00         67.00        160.00        143.00        439.00   \n2017-01-30 07:00:00        198.00         67.00        160.00        143.00   \n2017-01-30 08:00:00        125.00        198.00         67.00        160.00   \n2017-01-30 09:00:00        336.00        125.00        198.00         67.00   \n...                           ...           ...           ...           ...   \n2020-12-31 19:00:00         58.00         64.00        157.00        216.00   \n2020-12-31 20:00:00         66.00         58.00         64.00        157.00   \n2020-12-31 21:00:00         89.00         66.00         58.00         64.00   \n2020-12-31 22:00:00        279.00         89.00         66.00         58.00   \n2020-12-31 23:00:00        188.00        279.00         89.00         66.00   \n\n                     ...  Price_681lag  Price_682lag  Price_683lag  \\\ndatetime             ...                                             \n2017-01-30 05:00:00  ...        245.00        202.00        199.00   \n2017-01-30 06:00:00  ...        308.00        245.00        202.00   \n2017-01-30 07:00:00  ...        152.00        308.00        245.00   \n2017-01-30 08:00:00  ...        197.00        152.00        308.00   \n2017-01-30 09:00:00  ...        175.00        197.00        152.00   \n...                  ...           ...           ...           ...   \n2020-12-31 19:00:00  ...        459.00        459.00        268.00   \n2020-12-31 20:00:00  ...        353.00        459.00        459.00   \n2020-12-31 21:00:00  ...        258.00        353.00        459.00   \n2020-12-31 22:00:00  ...        453.00        258.00        353.00   \n2020-12-31 23:00:00  ...        323.00        453.00        258.00   \n\n                     Price_684lag  Price_685lag  Price_686lag  Price_687lag  \\\ndatetime                                                                      \n2017-01-30 05:00:00        132.00        148.00        141.00        181.00   \n2017-01-30 06:00:00        199.00        132.00        148.00        141.00   \n2017-01-30 07:00:00        202.00        199.00        132.00        148.00   \n2017-01-30 08:00:00        245.00        202.00        199.00        132.00   \n2017-01-30 09:00:00        308.00        245.00        202.00        199.00   \n...                           ...           ...           ...           ...   \n2020-12-31 19:00:00         97.00         53.00         48.00         54.00   \n2020-12-31 20:00:00        268.00         97.00         53.00         48.00   \n2020-12-31 21:00:00        459.00        268.00         97.00         53.00   \n2020-12-31 22:00:00        459.00        459.00        268.00         97.00   \n2020-12-31 23:00:00        353.00        459.00        459.00        268.00   \n\n                     Price_688lag  Price_689lag  Price_690lag  Price_691lag  \\\ndatetime                                                                      \n2017-01-30 05:00:00        250.00        203.00        243.00        114.00   \n2017-01-30 06:00:00        181.00        250.00        203.00        243.00   \n2017-01-30 07:00:00        141.00        181.00        250.00        203.00   \n2017-01-30 08:00:00        148.00        141.00        181.00        250.00   \n2017-01-30 09:00:00        132.00        148.00        141.00        181.00   \n...                           ...           ...           ...           ...   \n2020-12-31 19:00:00         67.00        147.00        172.00        165.00   \n2020-12-31 20:00:00         54.00         67.00        147.00        172.00   \n2020-12-31 21:00:00         48.00         54.00         67.00        147.00   \n2020-12-31 22:00:00         53.00         48.00         54.00         67.00   \n2020-12-31 23:00:00         97.00         53.00         48.00         54.00   \n\n                     Price_692lag  Price_693lag  Price_694lag  Price_695lag  \\\ndatetime                                                                      \n2017-01-30 05:00:00        392.00        187.00         34.00         34.00   \n2017-01-30 06:00:00        114.00        392.00        187.00         34.00   \n2017-01-30 07:00:00        243.00        114.00        392.00        187.00   \n2017-01-30 08:00:00        203.00        243.00        114.00        392.00   \n2017-01-30 09:00:00        250.00        203.00        243.00        114.00   \n...                           ...           ...           ...           ...   \n2020-12-31 19:00:00        188.00        459.00        395.00        412.00   \n2020-12-31 20:00:00        165.00        188.00        459.00        395.00   \n2020-12-31 21:00:00        172.00        165.00        188.00        459.00   \n2020-12-31 22:00:00        147.00        172.00        165.00        188.00   \n2020-12-31 23:00:00         67.00        147.00        172.00        165.00   \n\n                     Price_696lag  Price_697lag  Price_698lag  Price_699lag  \\\ndatetime                                                                      \n2017-01-30 05:00:00         34.00         34.00        128.00        237.00   \n2017-01-30 06:00:00         34.00         34.00         34.00        128.00   \n2017-01-30 07:00:00         34.00         34.00         34.00         34.00   \n2017-01-30 08:00:00        187.00         34.00         34.00         34.00   \n2017-01-30 09:00:00        392.00        187.00         34.00         34.00   \n...                           ...           ...           ...           ...   \n2020-12-31 19:00:00        272.00        115.00        138.00        193.00   \n2020-12-31 20:00:00        412.00        272.00        115.00        138.00   \n2020-12-31 21:00:00        395.00        412.00        272.00        115.00   \n2020-12-31 22:00:00        459.00        395.00        412.00        272.00   \n2020-12-31 23:00:00        188.00        459.00        395.00        412.00   \n\n                     Price_700lag  \ndatetime                           \n2017-01-30 05:00:00        138.00  \n2017-01-30 06:00:00        237.00  \n2017-01-30 07:00:00        128.00  \n2017-01-30 08:00:00         34.00  \n2017-01-30 09:00:00         34.00  \n...                           ...  \n2020-12-31 19:00:00        191.00  \n2020-12-31 20:00:00        193.00  \n2020-12-31 21:00:00        138.00  \n2020-12-31 22:00:00        115.00  \n2020-12-31 23:00:00        272.00  \n\n[34363 rows x 366 columns]",
      "text/html": "<div>\n<style scoped>\n    .dataframe tbody tr th:only-of-type {\n        vertical-align: middle;\n    }\n\n    .dataframe tbody tr th {\n        vertical-align: top;\n    }\n\n    .dataframe thead th {\n        text-align: right;\n    }\n</style>\n<table border=\"1\" class=\"dataframe\">\n  <thead>\n    <tr style=\"text-align: right;\">\n      <th></th>\n      <th>Price</th>\n      <th>Price_336lag</th>\n      <th>Price_337lag</th>\n      <th>Price_338lag</th>\n      <th>Price_339lag</th>\n      <th>Price_340lag</th>\n      <th>Price_341lag</th>\n      <th>Price_342lag</th>\n      <th>Price_343lag</th>\n      <th>Price_344lag</th>\n      <th>Price_345lag</th>\n      <th>Price_346lag</th>\n      <th>Price_347lag</th>\n      <th>Price_348lag</th>\n      <th>Price_349lag</th>\n      <th>Price_350lag</th>\n      <th>Price_351lag</th>\n      <th>Price_352lag</th>\n      <th>Price_353lag</th>\n      <th>Price_354lag</th>\n      <th>...</th>\n      <th>Price_681lag</th>\n      <th>Price_682lag</th>\n      <th>Price_683lag</th>\n      <th>Price_684lag</th>\n      <th>Price_685lag</th>\n      <th>Price_686lag</th>\n      <th>Price_687lag</th>\n      <th>Price_688lag</th>\n      <th>Price_689lag</th>\n      <th>Price_690lag</th>\n      <th>Price_691lag</th>\n      <th>Price_692lag</th>\n      <th>Price_693lag</th>\n      <th>Price_694lag</th>\n      <th>Price_695lag</th>\n      <th>Price_696lag</th>\n      <th>Price_697lag</th>\n      <th>Price_698lag</th>\n      <th>Price_699lag</th>\n      <th>Price_700lag</th>\n    </tr>\n    <tr>\n      <th>datetime</th>\n      <th></th>\n      <th></th>\n      <th></th>\n      <th></th>\n      <th></th>\n      <th></th>\n      <th></th>\n      <th></th>\n      <th></th>\n      <th></th>\n      <th></th>\n      <th></th>\n      <th></th>\n      <th></th>\n      <th></th>\n      <th></th>\n      <th></th>\n      <th></th>\n      <th></th>\n      <th></th>\n      <th></th>\n      <th></th>\n      <th></th>\n      <th></th>\n      <th></th>\n      <th></th>\n      <th></th>\n      <th></th>\n      <th></th>\n      <th></th>\n      <th></th>\n      <th></th>\n      <th></th>\n      <th></th>\n      <th></th>\n      <th></th>\n      <th></th>\n      <th></th>\n      <th></th>\n      <th></th>\n      <th></th>\n    </tr>\n  </thead>\n  <tbody>\n    <tr>\n      <th>2017-01-30 05:00:00</th>\n      <td>34</td>\n      <td>34.00</td>\n      <td>34.00</td>\n      <td>40.00</td>\n      <td>119.00</td>\n      <td>238.00</td>\n      <td>459.00</td>\n      <td>358.00</td>\n      <td>133.00</td>\n      <td>138.00</td>\n      <td>273.00</td>\n      <td>188.00</td>\n      <td>336.00</td>\n      <td>125.00</td>\n      <td>198.00</td>\n      <td>67.00</td>\n      <td>160.00</td>\n      <td>143.00</td>\n      <td>439.00</td>\n      <td>187.00</td>\n      <td>...</td>\n      <td>245.00</td>\n      <td>202.00</td>\n      <td>199.00</td>\n      <td>132.00</td>\n      <td>148.00</td>\n      <td>141.00</td>\n      <td>181.00</td>\n      <td>250.00</td>\n      <td>203.00</td>\n      <td>243.00</td>\n      <td>114.00</td>\n      <td>392.00</td>\n      <td>187.00</td>\n      <td>34.00</td>\n      <td>34.00</td>\n      <td>34.00</td>\n      <td>34.00</td>\n      <td>128.00</td>\n      <td>237.00</td>\n      <td>138.00</td>\n    </tr>\n    <tr>\n      <th>2017-01-30 06:00:00</th>\n      <td>42</td>\n      <td>34.00</td>\n      <td>34.00</td>\n      <td>34.00</td>\n      <td>40.00</td>\n      <td>119.00</td>\n      <td>238.00</td>\n      <td>459.00</td>\n      <td>358.00</td>\n      <td>133.00</td>\n      <td>138.00</td>\n      <td>273.00</td>\n      <td>188.00</td>\n      <td>336.00</td>\n      <td>125.00</td>\n      <td>198.00</td>\n      <td>67.00</td>\n      <td>160.00</td>\n      <td>143.00</td>\n      <td>439.00</td>\n      <td>...</td>\n      <td>308.00</td>\n      <td>245.00</td>\n      <td>202.00</td>\n      <td>199.00</td>\n      <td>132.00</td>\n      <td>148.00</td>\n      <td>141.00</td>\n      <td>181.00</td>\n      <td>250.00</td>\n      <td>203.00</td>\n      <td>243.00</td>\n      <td>114.00</td>\n      <td>392.00</td>\n      <td>187.00</td>\n      <td>34.00</td>\n      <td>34.00</td>\n      <td>34.00</td>\n      <td>34.00</td>\n      <td>128.00</td>\n      <td>237.00</td>\n    </tr>\n    <tr>\n      <th>2017-01-30 07:00:00</th>\n      <td>133</td>\n      <td>91.00</td>\n      <td>34.00</td>\n      <td>34.00</td>\n      <td>34.00</td>\n      <td>40.00</td>\n      <td>119.00</td>\n      <td>238.00</td>\n      <td>459.00</td>\n      <td>358.00</td>\n      <td>133.00</td>\n      <td>138.00</td>\n      <td>273.00</td>\n      <td>188.00</td>\n      <td>336.00</td>\n      <td>125.00</td>\n      <td>198.00</td>\n      <td>67.00</td>\n      <td>160.00</td>\n      <td>143.00</td>\n      <td>...</td>\n      <td>152.00</td>\n      <td>308.00</td>\n      <td>245.00</td>\n      <td>202.00</td>\n      <td>199.00</td>\n      <td>132.00</td>\n      <td>148.00</td>\n      <td>141.00</td>\n      <td>181.00</td>\n      <td>250.00</td>\n      <td>203.00</td>\n      <td>243.00</td>\n      <td>114.00</td>\n      <td>392.00</td>\n      <td>187.00</td>\n      <td>34.00</td>\n      <td>34.00</td>\n      <td>34.00</td>\n      <td>34.00</td>\n      <td>128.00</td>\n    </tr>\n    <tr>\n      <th>2017-01-30 08:00:00</th>\n      <td>203</td>\n      <td>110.00</td>\n      <td>91.00</td>\n      <td>34.00</td>\n      <td>34.00</td>\n      <td>34.00</td>\n      <td>40.00</td>\n      <td>119.00</td>\n      <td>238.00</td>\n      <td>459.00</td>\n      <td>358.00</td>\n      <td>133.00</td>\n      <td>138.00</td>\n      <td>273.00</td>\n      <td>188.00</td>\n      <td>336.00</td>\n      <td>125.00</td>\n      <td>198.00</td>\n      <td>67.00</td>\n      <td>160.00</td>\n      <td>...</td>\n      <td>197.00</td>\n      <td>152.00</td>\n      <td>308.00</td>\n      <td>245.00</td>\n      <td>202.00</td>\n      <td>199.00</td>\n      <td>132.00</td>\n      <td>148.00</td>\n      <td>141.00</td>\n      <td>181.00</td>\n      <td>250.00</td>\n      <td>203.00</td>\n      <td>243.00</td>\n      <td>114.00</td>\n      <td>392.00</td>\n      <td>187.00</td>\n      <td>34.00</td>\n      <td>34.00</td>\n      <td>34.00</td>\n      <td>34.00</td>\n    </tr>\n    <tr>\n      <th>2017-01-30 09:00:00</th>\n      <td>34</td>\n      <td>178.00</td>\n      <td>110.00</td>\n      <td>91.00</td>\n      <td>34.00</td>\n      <td>34.00</td>\n      <td>34.00</td>\n      <td>40.00</td>\n      <td>119.00</td>\n      <td>238.00</td>\n      <td>459.00</td>\n      <td>358.00</td>\n      <td>133.00</td>\n      <td>138.00</td>\n      <td>273.00</td>\n      <td>188.00</td>\n      <td>336.00</td>\n      <td>125.00</td>\n      <td>198.00</td>\n      <td>67.00</td>\n      <td>...</td>\n      <td>175.00</td>\n      <td>197.00</td>\n      <td>152.00</td>\n      <td>308.00</td>\n      <td>245.00</td>\n      <td>202.00</td>\n      <td>199.00</td>\n      <td>132.00</td>\n      <td>148.00</td>\n      <td>141.00</td>\n      <td>181.00</td>\n      <td>250.00</td>\n      <td>203.00</td>\n      <td>243.00</td>\n      <td>114.00</td>\n      <td>392.00</td>\n      <td>187.00</td>\n      <td>34.00</td>\n      <td>34.00</td>\n      <td>34.00</td>\n    </tr>\n    <tr>\n      <th>...</th>\n      <td>...</td>\n      <td>...</td>\n      <td>...</td>\n      <td>...</td>\n      <td>...</td>\n      <td>...</td>\n      <td>...</td>\n      <td>...</td>\n      <td>...</td>\n      <td>...</td>\n      <td>...</td>\n      <td>...</td>\n      <td>...</td>\n      <td>...</td>\n      <td>...</td>\n      <td>...</td>\n      <td>...</td>\n      <td>...</td>\n      <td>...</td>\n      <td>...</td>\n      <td>...</td>\n      <td>...</td>\n      <td>...</td>\n      <td>...</td>\n      <td>...</td>\n      <td>...</td>\n      <td>...</td>\n      <td>...</td>\n      <td>...</td>\n      <td>...</td>\n      <td>...</td>\n      <td>...</td>\n      <td>...</td>\n      <td>...</td>\n      <td>...</td>\n      <td>...</td>\n      <td>...</td>\n      <td>...</td>\n      <td>...</td>\n      <td>...</td>\n      <td>...</td>\n    </tr>\n    <tr>\n      <th>2020-12-31 19:00:00</th>\n      <td>328</td>\n      <td>322.00</td>\n      <td>142.00</td>\n      <td>237.00</td>\n      <td>307.00</td>\n      <td>383.00</td>\n      <td>336.00</td>\n      <td>336.00</td>\n      <td>344.00</td>\n      <td>158.00</td>\n      <td>138.00</td>\n      <td>388.00</td>\n      <td>188.00</td>\n      <td>279.00</td>\n      <td>89.00</td>\n      <td>66.00</td>\n      <td>58.00</td>\n      <td>64.00</td>\n      <td>157.00</td>\n      <td>216.00</td>\n      <td>...</td>\n      <td>459.00</td>\n      <td>459.00</td>\n      <td>268.00</td>\n      <td>97.00</td>\n      <td>53.00</td>\n      <td>48.00</td>\n      <td>54.00</td>\n      <td>67.00</td>\n      <td>147.00</td>\n      <td>172.00</td>\n      <td>165.00</td>\n      <td>188.00</td>\n      <td>459.00</td>\n      <td>395.00</td>\n      <td>412.00</td>\n      <td>272.00</td>\n      <td>115.00</td>\n      <td>138.00</td>\n      <td>193.00</td>\n      <td>191.00</td>\n    </tr>\n    <tr>\n      <th>2020-12-31 20:00:00</th>\n      <td>347</td>\n      <td>286.00</td>\n      <td>322.00</td>\n      <td>142.00</td>\n      <td>237.00</td>\n      <td>307.00</td>\n      <td>383.00</td>\n      <td>336.00</td>\n      <td>336.00</td>\n      <td>344.00</td>\n      <td>158.00</td>\n      <td>138.00</td>\n      <td>388.00</td>\n      <td>188.00</td>\n      <td>279.00</td>\n      <td>89.00</td>\n      <td>66.00</td>\n      <td>58.00</td>\n      <td>64.00</td>\n      <td>157.00</td>\n      <td>...</td>\n      <td>353.00</td>\n      <td>459.00</td>\n      <td>459.00</td>\n      <td>268.00</td>\n      <td>97.00</td>\n      <td>53.00</td>\n      <td>48.00</td>\n      <td>54.00</td>\n      <td>67.00</td>\n      <td>147.00</td>\n      <td>172.00</td>\n      <td>165.00</td>\n      <td>188.00</td>\n      <td>459.00</td>\n      <td>395.00</td>\n      <td>412.00</td>\n      <td>272.00</td>\n      <td>115.00</td>\n      <td>138.00</td>\n      <td>193.00</td>\n    </tr>\n    <tr>\n      <th>2020-12-31 21:00:00</th>\n      <td>335</td>\n      <td>377.00</td>\n      <td>286.00</td>\n      <td>322.00</td>\n      <td>142.00</td>\n      <td>237.00</td>\n      <td>307.00</td>\n      <td>383.00</td>\n      <td>336.00</td>\n      <td>336.00</td>\n      <td>344.00</td>\n      <td>158.00</td>\n      <td>138.00</td>\n      <td>388.00</td>\n      <td>188.00</td>\n      <td>279.00</td>\n      <td>89.00</td>\n      <td>66.00</td>\n      <td>58.00</td>\n      <td>64.00</td>\n      <td>...</td>\n      <td>258.00</td>\n      <td>353.00</td>\n      <td>459.00</td>\n      <td>459.00</td>\n      <td>268.00</td>\n      <td>97.00</td>\n      <td>53.00</td>\n      <td>48.00</td>\n      <td>54.00</td>\n      <td>67.00</td>\n      <td>147.00</td>\n      <td>172.00</td>\n      <td>165.00</td>\n      <td>188.00</td>\n      <td>459.00</td>\n      <td>395.00</td>\n      <td>412.00</td>\n      <td>272.00</td>\n      <td>115.00</td>\n      <td>138.00</td>\n    </tr>\n    <tr>\n      <th>2020-12-31 22:00:00</th>\n      <td>141</td>\n      <td>426.00</td>\n      <td>377.00</td>\n      <td>286.00</td>\n      <td>322.00</td>\n      <td>142.00</td>\n      <td>237.00</td>\n      <td>307.00</td>\n      <td>383.00</td>\n      <td>336.00</td>\n      <td>336.00</td>\n      <td>344.00</td>\n      <td>158.00</td>\n      <td>138.00</td>\n      <td>388.00</td>\n      <td>188.00</td>\n      <td>279.00</td>\n      <td>89.00</td>\n      <td>66.00</td>\n      <td>58.00</td>\n      <td>...</td>\n      <td>453.00</td>\n      <td>258.00</td>\n      <td>353.00</td>\n      <td>459.00</td>\n      <td>459.00</td>\n      <td>268.00</td>\n      <td>97.00</td>\n      <td>53.00</td>\n      <td>48.00</td>\n      <td>54.00</td>\n      <td>67.00</td>\n      <td>147.00</td>\n      <td>172.00</td>\n      <td>165.00</td>\n      <td>188.00</td>\n      <td>459.00</td>\n      <td>395.00</td>\n      <td>412.00</td>\n      <td>272.00</td>\n      <td>115.00</td>\n    </tr>\n    <tr>\n      <th>2020-12-31 23:00:00</th>\n      <td>112</td>\n      <td>392.00</td>\n      <td>426.00</td>\n      <td>377.00</td>\n      <td>286.00</td>\n      <td>322.00</td>\n      <td>142.00</td>\n      <td>237.00</td>\n      <td>307.00</td>\n      <td>383.00</td>\n      <td>336.00</td>\n      <td>336.00</td>\n      <td>344.00</td>\n      <td>158.00</td>\n      <td>138.00</td>\n      <td>388.00</td>\n      <td>188.00</td>\n      <td>279.00</td>\n      <td>89.00</td>\n      <td>66.00</td>\n      <td>...</td>\n      <td>323.00</td>\n      <td>453.00</td>\n      <td>258.00</td>\n      <td>353.00</td>\n      <td>459.00</td>\n      <td>459.00</td>\n      <td>268.00</td>\n      <td>97.00</td>\n      <td>53.00</td>\n      <td>48.00</td>\n      <td>54.00</td>\n      <td>67.00</td>\n      <td>147.00</td>\n      <td>172.00</td>\n      <td>165.00</td>\n      <td>188.00</td>\n      <td>459.00</td>\n      <td>395.00</td>\n      <td>412.00</td>\n      <td>272.00</td>\n    </tr>\n  </tbody>\n</table>\n<p>34363 rows × 366 columns</p>\n</div>"
     },
     "execution_count": 23,
     "metadata": {},
     "output_type": "execute_result"
    }
   ],
   "source": [
    "train_new"
   ],
   "metadata": {
    "collapsed": false,
    "pycharm": {
     "name": "#%%\n"
    }
   }
  },
  {
   "cell_type": "markdown",
   "id": "db534dd2",
   "metadata": {
    "pycharm": {
     "name": "#%% md\n"
    }
   },
   "source": [
    "# XGB without FE"
   ]
  },
  {
   "cell_type": "code",
   "execution_count": 20,
   "id": "ed8abd8f",
   "metadata": {
    "scrolled": false,
    "pycharm": {
     "name": "#%%\n"
    }
   },
   "outputs": [
    {
     "name": "stderr",
     "output_type": "stream",
     "text": [
      "  0%|          | 0/1 [00:00<?, ?it/s]"
     ]
    },
    {
     "name": "stdout",
     "output_type": "stream",
     "text": [
      "[15:43:54] WARNING: C:\\Windows\\Temp\\abs_557yfx631l\\croots\\recipe\\xgboost-split_1659548953302\\work\\src\\learner.cc:576: \n",
      "Parameters: { \"num_leaves\" } might not be used.\n",
      "\n",
      "  This could be a false alarm, with some parameters getting used by language bindings but\n",
      "  then being mistakenly passed down to XGBoost core, or some parameter actually being used\n",
      "  but getting flagged wrongly here. Please open an issue if you find any such cases.\n",
      "\n",
      "\n",
      "gumi / XGB / Model336 Training Result\n",
      "\n"
     ]
    },
    {
     "data": {
      "text/plain": "<Figure size 1080x432 with 1 Axes>",
      "image/png": "[encoded data removed]"
     },
     "metadata": {
      "needs_background": "light"
     },
     "output_type": "display_data"
    },
    {
     "name": "stderr",
     "output_type": "stream",
     "text": [
      "100%|██████████| 1/1 [00:04<00:00,  4.39s/it]\n"
     ]
    },
    {
     "data": {
      "text/plain": "<Figure size 432x288 with 0 Axes>"
     },
     "metadata": {},
     "output_type": "display_data"
    }
   ],
   "source": [
    "pred = []\n",
    "\n",
    "with tf.device(\"/device:GPU:0\"):  # GPU 활용이 불가능한 경우, CPU로 설정\n",
    "\n",
    "    for day_num in tqdm(SELECTED):\n",
    "\n",
    "        train_all = []\n",
    "        train_all = train.iloc[:, :2]\n",
    "\n",
    "        # Price에 Outlier Treatment 적용 ---------------------#\n",
    "\n",
    "        winsor_list = []\n",
    "        winsor_list.append(WINSOR)\n",
    "        winsor_list.append(100 - WINSOR)\n",
    "\n",
    "        winsors = np.percentile(train_all['Price'][train_all.index < BASEDATE], winsor_list)\n",
    "        winsor_min = winsors[0]\n",
    "        winsor_max = winsors[1]\n",
    "\n",
    "        train_all['Price'][train_all.index < BASEDATE] = np.where(\n",
    "            train_all['Price'][train_all.index < BASEDATE] < winsor_min, winsor_min,\n",
    "            train_all['Price'][train_all.index < BASEDATE])\n",
    "        train_all['Price'][train_all.index < BASEDATE] = np.where(\n",
    "            train_all['Price'][train_all.index < BASEDATE] > winsor_max, winsor_max,\n",
    "            train_all['Price'][train_all.index < BASEDATE])\n",
    "\n",
    "        #-----------------------------------------------------#\n",
    "\n",
    "        for i in range(day_num, IRANGE + day_num):\n",
    "            train_all[f'Price_{i}lag'] = train_all['Price'].shift(i)\n",
    "\n",
    "        if VARS == 2:  # 거래량을 사용할 경우에만 처리\n",
    "\n",
    "            for i in range(day_num, IRANGE + day_num):\n",
    "                train_all[f'Volume_{i}lag'] = train_all['Volume'].shift(i)\n",
    "            train_all = train_all.drop(['Volume'], axis=1)\n",
    "\n",
    "        # else:\n",
    "            # train_all = train_all.drop(['Volume'], axis=1)\n",
    "\n",
    "        train_all = train_all.dropna(axis=0)  # NaN 결측치가 있는 경우, 학습대상에서 제외\n",
    "\n",
    "        train_old = train_all[train_all.index < BASEDATE]\n",
    "        test_new = train_all[train_all.index >= BASEDATE]\n",
    "\n",
    "        # 검증기간 데이터 FRAC 추가  ---------------------#\n",
    "\n",
    "        train_new = train_old.append(test_new.sample(frac=FRAC))\n",
    "        #\n",
    "        y_train_raw = train_new['Price']\n",
    "        x_train_raw = train_new.drop(['Price'], axis=1)\n",
    "\n",
    "        #-----------------------------------------------------#\n",
    "\n",
    "        # Min-Max Normalization 적용\n",
    "        scaler_X_tr = preprocessing.MinMaxScaler(feature_range=(0, 1))\n",
    "        X_train = scaler_X_tr.fit_transform(x_train_raw)\n",
    "\n",
    "        # Validation 데이터을 학습에 사용할 경우에 대한 처리\n",
    "\n",
    "        if SPLIT == 0:\n",
    "            x_train = X_train\n",
    "            y_train = y_train_raw\n",
    "        else:\n",
    "            x_train = X_train[:-SPLIT]\n",
    "            y_train = y_train_raw[:-SPLIT]\n",
    "            x_valid = X_train[-SPLIT:]\n",
    "            y_valid = y_train_raw[-SPLIT:]\n",
    "\n",
    "            dvalid = lgb.Dataset(x_valid, label=y_valid)\n",
    "\n",
    "        # LGBM Training\n",
    "\n",
    "        # dtrain = lgb.Dataset(x_train, label=y_train)\n",
    "\n",
    "        params_xgb = {\n",
    "            'max_depth':4,\n",
    "            # 'learning_rate':0.05,\n",
    "            #               'subsample':0.8,\n",
    "            #               'colsample_bytree':0.6,\n",
    "                          'eval_metric':'logloss',\n",
    "            #               'object': 'reg:squarederror',\n",
    "            #               'tree_method':'gpu_hist',\n",
    "            #               'predictor':'gpu_predictor',\n",
    "            'num_leaves': 555,\n",
    "            # 'min_child_weight': 0.034,\n",
    "            # 'feature_fraction': 0.379,\n",
    "            # 'bagging_fraction': 0.418,\n",
    "            # 'min_data_in_leaf': 106,\n",
    "            # 'objective': 'regression',\n",
    "            # 'max_depth': -1,\n",
    "            'learning_rate': 0.05,\n",
    "            # \"boosting_type\": \"gbdt\",\n",
    "            # \"bagging_seed\": 11,\n",
    "            # \"metric\": 'rmse',\n",
    "            # \"verbose\": -1,\n",
    "            # 'reg_alpha': 0.3899,\n",
    "            # 'reg_lambda': 0.648,\n",
    "            # 'random_state': 222,\n",
    "\n",
    "        }\n",
    "\n",
    "        xgb_model = XGBRegressor(\n",
    "            **params_xgb\n",
    "            , random_state=222\n",
    "        )\n",
    "        if SPLIT == 0:\n",
    "            model = xgb_model.fit(x_train, y_train)\n",
    "\n",
    "        else:\n",
    "            model = lgb.train(PARAMS, dtrain, num_boost_round=ITER, valid_sets=dvalid, verbose_eval=False)\n",
    "\n",
    "        # Save model\n",
    "        joblib.dump(model, f'./{MODEL_DIR}/{PDCODE}_{SMCODE}V{VARS}_{MDCODE}woFE_{day_num}.pkl')\n",
    "\n",
    "        # 학습한 결과의 예측모델 출력  ---------------------#\n",
    "\n",
    "        y_train_real = train_old['Price']\n",
    "        x_train_pred = scaler_X_tr.fit_transform(train_old.drop(['Price'], axis=1))\n",
    "        y_train_pred = model.predict(x_train_pred)\n",
    "\n",
    "        print(f'{PDNAME} / {MDCODE} / Model{day_num} Training Result\\n')\n",
    "\n",
    "        plot_data = pd.concat(\n",
    "            [pd.DataFrame(y_train_real.values, columns=['actual']), pd.DataFrame(y_train_pred, columns=['pred'])],\n",
    "            axis=1)\n",
    "        date_label = pd.date_range(start=train_old.index[0], end=train_old.index[-1], freq='H')\n",
    "        # print(\n",
    "        #     date_label.get_indexer,\n",
    "        #     plot_data.iloc[:,:2]\n",
    "        # )\n",
    "        fig, ax = plt.subplots(figsize=(15, 6))\n",
    "\n",
    "        ax.plot(\n",
    "            date_label,\n",
    "            plot_data.values[:,:]\n",
    "                )\n",
    "\n",
    "        plt.title(PDNAME + ' / ' + MDCODE + ' / Model ' + str(day_num) + ' Training Result', fontsize=14)\n",
    "        plt.xlabel('Date', fontsize=10)\n",
    "        plt.ylabel('Price', fontsize=10)\n",
    "\n",
    "        dateFmt = mdates.DateFormatter('%y-%m-%d')\n",
    "        ax.xaxis.set_major_formatter(dateFmt)\n",
    "\n",
    "        plt.show()\n",
    "        plt.clf()\n",
    "\n",
    "        #-----------------------------------------------------#"
   ]
  },
  {
   "cell_type": "code",
   "execution_count": 22,
   "outputs": [
    {
     "data": {
      "text/plain": "Empty DataFrame\nColumns: [Price, Price_336lag, Price_337lag, Price_338lag, Price_339lag, Price_340lag, Price_341lag, Price_342lag, Price_343lag, Price_344lag, Price_345lag, Price_346lag, Price_347lag, Price_348lag, Price_349lag, Price_350lag, Price_351lag, Price_352lag, Price_353lag, Price_354lag, Price_355lag, Price_356lag, Price_357lag, Price_358lag, Price_359lag, Price_360lag, Price_361lag, Price_362lag, Price_363lag, Price_364lag, Price_365lag, Price_366lag, Price_367lag, Price_368lag, Price_369lag, Price_370lag, Price_371lag, Price_372lag, Price_373lag, Price_374lag, Price_375lag, Price_376lag, Price_377lag, Price_378lag, Price_379lag, Price_380lag, Price_381lag, Price_382lag, Price_383lag, Price_384lag, Price_385lag, Price_386lag, Price_387lag, Price_388lag, Price_389lag, Price_390lag, Price_391lag, Price_392lag, Price_393lag, Price_394lag, Price_395lag, Price_396lag, Price_397lag, Price_398lag, Price_399lag, Price_400lag, Price_401lag, Price_402lag, Price_403lag, Price_404lag, Price_405lag, Price_406lag, Price_407lag, Price_408lag, Price_409lag, Price_410lag, Price_411lag, Price_412lag, Price_413lag, Price_414lag, Price_415lag, Price_416lag, Price_417lag, Price_418lag, Price_419lag, Price_420lag, Price_421lag, Price_422lag, Price_423lag, Price_424lag, Price_425lag, Price_426lag, Price_427lag, Price_428lag, Price_429lag, Price_430lag, Price_431lag, Price_432lag, Price_433lag, Price_434lag, ...]\nIndex: []\n\n[0 rows x 366 columns]",
      "text/html": "<div>\n<style scoped>\n    .dataframe tbody tr th:only-of-type {\n        vertical-align: middle;\n    }\n\n    .dataframe tbody tr th {\n        vertical-align: top;\n    }\n\n    .dataframe thead th {\n        text-align: right;\n    }\n</style>\n<table border=\"1\" class=\"dataframe\">\n  <thead>\n    <tr style=\"text-align: right;\">\n      <th></th>\n      <th>Price</th>\n      <th>Price_336lag</th>\n      <th>Price_337lag</th>\n      <th>Price_338lag</th>\n      <th>Price_339lag</th>\n      <th>Price_340lag</th>\n      <th>Price_341lag</th>\n      <th>Price_342lag</th>\n      <th>Price_343lag</th>\n      <th>Price_344lag</th>\n      <th>Price_345lag</th>\n      <th>Price_346lag</th>\n      <th>Price_347lag</th>\n      <th>Price_348lag</th>\n      <th>Price_349lag</th>\n      <th>Price_350lag</th>\n      <th>Price_351lag</th>\n      <th>Price_352lag</th>\n      <th>Price_353lag</th>\n      <th>Price_354lag</th>\n      <th>...</th>\n      <th>Price_681lag</th>\n      <th>Price_682lag</th>\n      <th>Price_683lag</th>\n      <th>Price_684lag</th>\n      <th>Price_685lag</th>\n      <th>Price_686lag</th>\n      <th>Price_687lag</th>\n      <th>Price_688lag</th>\n      <th>Price_689lag</th>\n      <th>Price_690lag</th>\n      <th>Price_691lag</th>\n      <th>Price_692lag</th>\n      <th>Price_693lag</th>\n      <th>Price_694lag</th>\n      <th>Price_695lag</th>\n      <th>Price_696lag</th>\n      <th>Price_697lag</th>\n      <th>Price_698lag</th>\n      <th>Price_699lag</th>\n      <th>Price_700lag</th>\n    </tr>\n    <tr>\n      <th>datetime</th>\n      <th></th>\n      <th></th>\n      <th></th>\n      <th></th>\n      <th></th>\n      <th></th>\n      <th></th>\n      <th></th>\n      <th></th>\n      <th></th>\n      <th></th>\n      <th></th>\n      <th></th>\n      <th></th>\n      <th></th>\n      <th></th>\n      <th></th>\n      <th></th>\n      <th></th>\n      <th></th>\n      <th></th>\n      <th></th>\n      <th></th>\n      <th></th>\n      <th></th>\n      <th></th>\n      <th></th>\n      <th></th>\n      <th></th>\n      <th></th>\n      <th></th>\n      <th></th>\n      <th></th>\n      <th></th>\n      <th></th>\n      <th></th>\n      <th></th>\n      <th></th>\n      <th></th>\n      <th></th>\n      <th></th>\n    </tr>\n  </thead>\n  <tbody>\n  </tbody>\n</table>\n<p>0 rows × 366 columns</p>\n</div>"
     },
     "execution_count": 22,
     "metadata": {},
     "output_type": "execute_result"
    }
   ],
   "source": [
    "test_new"
   ],
   "metadata": {
    "collapsed": false,
    "pycharm": {
     "name": "#%%\n"
    }
   }
  },
  {
   "cell_type": "code",
   "execution_count": null,
   "outputs": [],
   "source": [
    "\n",
    "        x_test = test_new.iloc[:, 1:]\n",
    "        y_test = test_new['Price']\n",
    "        X_test = scaler_X_tr.transform(x_test)\n",
    "        y_test_pred = model.predict(X_test)\n",
    "\n",
    "        pred.append(y_test_pred)"
   ],
   "metadata": {
    "collapsed": false,
    "pycharm": {
     "name": "#%%\n"
    }
   }
  },
  {
   "cell_type": "markdown",
   "id": "0666ba0f",
   "metadata": {
    "pycharm": {
     "name": "#%% md\n"
    }
   },
   "source": [
    "# XGB without FE / Visualization"
   ]
  },
  {
   "cell_type": "code",
   "execution_count": 19,
   "id": "0efb69af",
   "metadata": {
    "scrolled": false,
    "pycharm": {
     "name": "#%%\n"
    }
   },
   "outputs": [
    {
     "name": "stdout",
     "output_type": "stream",
     "text": [
      "Model336 Results\n",
      "\n"
     ]
    },
    {
     "ename": "IndexError",
     "evalue": "list index out of range",
     "output_type": "error",
     "traceback": [
      "\u001B[1;31m---------------------------------------------------------------------------\u001B[0m",
      "\u001B[1;31mIndexError\u001B[0m                                Traceback (most recent call last)",
      "Input \u001B[1;32mIn [19]\u001B[0m, in \u001B[0;36m<cell line: 1>\u001B[1;34m()\u001B[0m\n\u001B[0;32m      1\u001B[0m \u001B[38;5;28;01mfor\u001B[39;00m i \u001B[38;5;129;01min\u001B[39;00m \u001B[38;5;28mrange\u001B[39m(\u001B[38;5;241m0\u001B[39m, NSEL):\n\u001B[0;32m      2\u001B[0m     \u001B[38;5;28mprint\u001B[39m(\u001B[38;5;124mf\u001B[39m\u001B[38;5;124m'\u001B[39m\u001B[38;5;124mModel\u001B[39m\u001B[38;5;132;01m{\u001B[39;00mSELECTED[i]\u001B[38;5;132;01m}\u001B[39;00m\u001B[38;5;124m Results\u001B[39m\u001B[38;5;130;01m\\n\u001B[39;00m\u001B[38;5;124m'\u001B[39m)\n\u001B[1;32m----> 4\u001B[0m     plot_data \u001B[38;5;241m=\u001B[39m pd\u001B[38;5;241m.\u001B[39mDataFrame([y_test\u001B[38;5;241m.\u001B[39mvalues, \u001B[43mpred\u001B[49m\u001B[43m[\u001B[49m\u001B[43mi\u001B[49m\u001B[43m]\u001B[49m])\u001B[38;5;241m.\u001B[39mT\n\u001B[0;32m      5\u001B[0m     date_label \u001B[38;5;241m=\u001B[39m pd\u001B[38;5;241m.\u001B[39mdate_range(start\u001B[38;5;241m=\u001B[39mx_test\u001B[38;5;241m.\u001B[39mindex[\u001B[38;5;241m0\u001B[39m], end\u001B[38;5;241m=\u001B[39mx_test\u001B[38;5;241m.\u001B[39mindex[\u001B[38;5;241m-\u001B[39m\u001B[38;5;241m1\u001B[39m], freq\u001B[38;5;241m=\u001B[39m\u001B[38;5;124m'\u001B[39m\u001B[38;5;124mH\u001B[39m\u001B[38;5;124m'\u001B[39m)\n\u001B[0;32m      7\u001B[0m     fig, ax \u001B[38;5;241m=\u001B[39m plt\u001B[38;5;241m.\u001B[39msubplots(figsize\u001B[38;5;241m=\u001B[39m(\u001B[38;5;241m15\u001B[39m, \u001B[38;5;241m6\u001B[39m))\n",
      "\u001B[1;31mIndexError\u001B[0m: list index out of range"
     ]
    }
   ],
   "source": [
    "for i in range(0, NSEL):\n",
    "    print(f'Model{SELECTED[i]} Results\\n')\n",
    "\n",
    "    plot_data = pd.DataFrame([y_test.values, pred[i]]).T\n",
    "    date_label = pd.date_range(start=x_test.index[0], end=x_test.index[-1], freq='H')\n",
    "\n",
    "    fig, ax = plt.subplots(figsize=(15, 6))\n",
    "\n",
    "    plot_data.columns = ['actual', 'pred']\n",
    "    ax.plot(date_label, plot_data.values[:,:])\n",
    "\n",
    "    plt.title(PDNAME + ' / ' + MDCODE + ' / Model ' + str(SELECTED[i]) + ' Test Result', fontsize=14)\n",
    "    plt.xlabel('Date', fontsize=10)\n",
    "    plt.ylabel('Price', fontsize=10)\n",
    "\n",
    "    dateFmt = mdates.DateFormatter('%y-%m-%d')\n",
    "    ax.xaxis.set_major_formatter(dateFmt)\n",
    "\n",
    "    plt.show()\n",
    "    plt.clf()\n",
    "\n",
    "    MAPE = mean_absolute_percentage_error(y_test.values.flatten(), pred[i]) * 100\n",
    "    print(f'MAPE={MAPE}')\n",
    "\n",
    "    RMSE = np.sqrt(mean_squared_error(y_test.values.flatten(), pred[i]))\n",
    "    print(f'RMSE={RMSE}\\n\\n\\n')"
   ]
  },
  {
   "cell_type": "markdown",
   "source": [
    "# Feature Engineering code"
   ],
   "metadata": {
    "collapsed": false,
    "pycharm": {
     "name": "#%% md\n"
    }
   }
  },
  {
   "cell_type": "code",
   "execution_count": 64,
   "outputs": [],
   "source": [
    "### Feature engineering of all\n",
    "# def feature_engineering(raw):\n",
    "#     if 'datetime' in raw.columns:\n",
    "#         raw['datetime'] = pd.to_datetime(raw['datetime'])\n",
    "#         raw['datetime'] = pd.to_datetime(raw['datetime'])\n",
    "#\n",
    "#     if raw.index.dtype == 'int64':\n",
    "#         raw.set_index('datetime', inplace=True)\n",
    "#\n",
    "#     raw = raw.asfreq('H', method='ffill')\n",
    "#     raw['Price'].fillna(method='ffill', inplace=True)\n",
    "#\n",
    "#     result = sm.tsa.seasonal_decompose(raw['Price'], model='additive')\n",
    "#     Y_trend = pd.DataFrame(result.trend)\n",
    "#     Y_trend.fillna(method='ffill', inplace=True)\n",
    "#     Y_trend.fillna(method='bfill', inplace=True)\n",
    "#     Y_trend.columns = ['Price_trend']\n",
    "#     Y_seasonal = pd.DataFrame(result.seasonal)\n",
    "#     Y_seasonal.fillna(method='ffill', inplace=True)\n",
    "#     Y_seasonal.fillna(method='bfill', inplace=True)\n",
    "#     Y_seasonal.columns = ['Price_seasonal']\n",
    "#     pd.concat([raw, Y_trend, Y_seasonal], axis=1).isnull().sum()\n",
    "#     if 'Price_trend' not in raw.columns:\n",
    "#         if 'Price_seasonal' not in raw.columns:\n",
    "#             raw = pd.concat([raw, Y_trend, Y_seasonal], axis=1)\n",
    "#\n",
    "#     # STL분해 중 잔차 구하기\n",
    "#     result = sm.tsa.seasonal_decompose(raw['Price'], model='additive', period=60, two_sided=False)\n",
    "#     Y_remainder = pd.DataFrame(result.resid)\n",
    "#     Y_remainder.fillna(method='ffill', inplace=True)\n",
    "#     Y_remainder.fillna(method='bfill', inplace=True)\n",
    "#     Y_remainder.columns = ['Price_resid']\n",
    "#     raw = pd.concat([raw, Y_remainder], axis=1)\n",
    "#\n",
    "#     #시간 변수 만들기\n",
    "#     raw['year'] = pd.DatetimeIndex(raw.index).year\n",
    "#     raw['month'] = pd.DatetimeIndex(raw.index).month\n",
    "#     raw['day'] = pd.DatetimeIndex(raw.index).day\n",
    "#     raw['day_of_year'] = pd.DatetimeIndex(raw.index).dayofyear\n",
    "#     raw['week_of_year'] = pd.DatetimeIndex(raw.index).weekofyear\n",
    "#     raw['season'] = raw.month % 12 // 3 + 1\n",
    "#     raw['Quarter'] = (raw.index.quarter)\n",
    "#     raw['Quarter_ver2'] = (raw['Quarter'] + (raw.year - raw.year.min()) * 4)\n",
    "#\n",
    "#     month_in_year = 12\n",
    "#     raw['month_sin'] = np.sin(2 * np.pi * raw.month / month_in_year)\n",
    "#     raw['month_cos'] = np.cos(2 * np.pi * raw.month / month_in_year)\n",
    "#\n",
    "#     days_in_month = 30\n",
    "#     raw['day_sin'] = np.sin(2 * np.pi * raw.day / days_in_month)\n",
    "#     raw['day_cos'] = np.cos(2 * np.pi * raw.day / days_in_month)\n",
    "#\n",
    "#     days_in_year = 365\n",
    "#     raw['day_of_year_sin'] = np.sin(2 * np.pi * raw.day_of_year / days_in_year)\n",
    "#     raw['day_of_year_cos'] = np.cos(2 * np.pi * raw.day_of_year / days_in_year)\n",
    "#\n",
    "#     weeks_in_year = 52.1429\n",
    "#     raw['week_of_year_sin'] = np.sin(2 * np.pi * raw.week_of_year / weeks_in_year)\n",
    "#     raw['week_of_year_cos'] = np.cos(2 * np.pi * raw.week_of_year / weeks_in_year)\n",
    "#\n",
    "#     seasons_in_year = 4\n",
    "#     raw['season_sin'] = np.sin(2 * np.pi * raw.season / seasons_in_year)\n",
    "#     raw['season_cos'] = np.cos(2 * np.pi * raw.season / seasons_in_year)\n",
    "#     raw.drop(['day', 'day_of_year', 'week_of_year', 'season'], axis=1, inplace=True)\n",
    "#\n",
    "#     #가격 관련 변수 추가\n",
    "#     raw['rolling_mean_t30'] = raw['Price'].transform(\n",
    "#         lambda x: x.ewm(span=60, min_periods=1, adjust=True, ignore_na=False).mean())\n",
    "#     # raw['rolling_mean_t90'] = raw['Price'].transform(lambda x: x.ewm(span=90,min_periods=1,adjust=True,ignore_na=False).mean())\n",
    "#     # raw['rolling_mean_t180'] = raw['Price'].transform(lambda x: x.ewm(span=180,min_periods=1,adjust=True,ignore_na=False).mean())\n",
    "#     # raw['rolling_mean_t270'] = raw['Price'].transform(lambda x: x.ewm(span=270,min_periods=1,adjust=True,ignore_na=False).mean())\n",
    "#     # raw['rolling_mean_t365'] = raw['Price'].transform(lambda x: x.ewm(span=365,min_periods=1,adjust=True,ignore_na=False).mean())\n",
    "#\n",
    "#     #for a in range(1,366):\n",
    "#     #    raw[f'Price_lag{a}'] = raw['Price'].shift(a)\n",
    "#     #    raw[f'Price_lag{a}'].fillna(0,inplace=True)\n",
    "#\n",
    "#     raw['P_diff'] = raw['Price'].diff(1)\n",
    "#     raw['P_diff'].fillna(0, inplace=True)\n",
    "#     raw['Year_a_go'] = raw['Price'].shift(365)\n",
    "#     raw['Y_diff'] = raw['Price'] - raw['Year_a_go']\n",
    "#     raw['P_sum'] = raw['Price'] + raw['P_diff']\n",
    "#\n",
    "#     raw['month'] = (raw['month'] + (raw.year - raw.year.min()) * 12)\n",
    "#     mapd = raw.groupby('month')['Price'].mean()\n",
    "#     mapd = pd.DataFrame(mapd, index=mapd.index)\n",
    "#     mapd.reset_index(drop=False, inplace=True)\n",
    "#     mapd.columns = ['month', 'Mapd']\n",
    "#     raw = pd.merge(raw, mapd, how='left', left_on='month', right_on='month')\n",
    "#     raw['R_p'] = raw['Price'] - raw['Mapd']\n",
    "#\n",
    "#     raw.drop(['Mapd'], axis=1, inplace=True)\n",
    "#\n",
    "#     return raw\n",
    "#\n",
    "#\n",
    "# def feature_engineering_v(raw):\n",
    "#     if 'datetime' in raw.columns:\n",
    "#         raw['datetime'] = pd.to_datetime(raw['datetime'])\n",
    "#         raw['datetime'] = pd.to_datetime(raw['datetime'])\n",
    "#\n",
    "#     if raw.index.dtype == 'int64':\n",
    "#         raw.set_index('datetime', inplace=True)\n",
    "#\n",
    "#     raw = raw.asfreq('H', method='ffill')\n",
    "#     raw['Volume'].fillna(method='ffill', inplace=True)\n",
    "#\n",
    "#     result = sm.tsa.seasonal_decompose(raw['Volume'], model='additive')\n",
    "#     Y_trend = pd.DataFrame(result.trend)\n",
    "#     Y_trend.fillna(method='ffill', inplace=True)\n",
    "#     Y_trend.fillna(method='bfill', inplace=True)\n",
    "#     Y_trend.columns = ['Volume_trend']\n",
    "#     Y_seasonal = pd.DataFrame(result.seasonal)\n",
    "#     Y_seasonal.fillna(method='ffill', inplace=True)\n",
    "#     Y_seasonal.fillna(method='bfill', inplace=True)\n",
    "#     Y_seasonal.columns = ['Volume_seasonal']\n",
    "#     pd.concat([raw, Y_trend, Y_seasonal], axis=1).isnull().sum()\n",
    "#     if 'Volume_trend' not in raw.columns:\n",
    "#         if 'Volume_seasonal' not in raw.columns:\n",
    "#             raw = pd.concat([raw, Y_trend, Y_seasonal], axis=1)\n",
    "#\n",
    "#     # STL분해 중 잔차 구하기\n",
    "#     result = sm.tsa.seasonal_decompose(raw['Volume'], model='additive', period=30, two_sided=False)\n",
    "#     Y_remainder = pd.DataFrame(result.resid)\n",
    "#     Y_remainder.fillna(method='ffill', inplace=True)\n",
    "#     Y_remainder.fillna(method='bfill', inplace=True)\n",
    "#     Y_remainder.columns = ['Volume_resid']\n",
    "#     raw = pd.concat([raw, Y_remainder], axis=1)\n",
    "#\n",
    "#     #거래량 관련 변수 추가\n",
    "#     raw['V_rolling_mean_t30'] = raw['Volume'].transform(\n",
    "#         lambda x: x.ewm(span=30, min_periods=1, adjust=True, ignore_na=False).mean())\n",
    "#     raw['V_rolling_mean_t90'] = raw['Volume'].transform(\n",
    "#         lambda x: x.ewm(span=90, min_periods=1, adjust=True, ignore_na=False).mean())\n",
    "#     raw['V_rolling_mean_t180'] = raw['Volume'].transform(\n",
    "#         lambda x: x.ewm(span=180, min_periods=1, adjust=True, ignore_na=False).mean())\n",
    "#     raw['V_rolling_mean_t270'] = raw['Volume'].transform(\n",
    "#         lambda x: x.ewm(span=270, min_periods=1, adjust=True, ignore_na=False).mean())\n",
    "#     raw['V_rolling_mean_t365'] = raw['Volume'].transform(\n",
    "#         lambda x: x.ewm(span=365, min_periods=1, adjust=True, ignore_na=False).mean())\n",
    "#\n",
    "#     raw['V_diff'] = raw['Volume'].diff(1)\n",
    "#     raw['V_diff'].fillna(0, inplace=True)\n",
    "#     raw['V_Year_a_go'] = raw['Volume'].shift(365)\n",
    "#     raw['V_Y_diff'] = raw['Volume'] - raw['V_Year_a_go']\n",
    "#     raw['V_sum'] = raw['Volume'] + raw['V_diff']\n",
    "#\n",
    "#     raw['year'] = pd.DatetimeIndex(raw.index).year\n",
    "#     raw['month'] = pd.DatetimeIndex(raw.index).month\n",
    "#     raw['month'] = (raw['month'] + (raw.year - raw.year.min()) * 12)\n",
    "#\n",
    "#     mapd = raw.groupby('month')['Volume'].mean()\n",
    "#     mapd = pd.DataFrame(mapd, index=mapd.index)\n",
    "#     mapd.reset_index(drop=False, inplace=True)\n",
    "#     mapd.columns = ['month', 'Mapd']\n",
    "#     raw = pd.merge(raw, mapd, how='left', left_on='month', right_on='month')\n",
    "#     raw['V_R_p'] = raw['Volume'] - raw['Mapd']\n",
    "#\n",
    "#     raw.drop(['Mapd', 'year', 'month'], axis=1, inplace=True)\n",
    "#\n",
    "#     return raw"
   ],
   "metadata": {
    "collapsed": false,
    "pycharm": {
     "name": "#%%\n"
    }
   }
  },
  {
   "cell_type": "markdown",
   "source": [
    "# LGBM with FE"
   ],
   "metadata": {
    "collapsed": false,
    "pycharm": {
     "name": "#%% md\n"
    }
   }
  },
  {
   "cell_type": "code",
   "execution_count": 65,
   "outputs": [],
   "source": [
    "# # pred=[]\n",
    "# #\n",
    "# # with tf.device(\"/device:GPU:0\"):     # GPU 활용이 불가능한 경우, CPU로 설정\n",
    "# #\n",
    "# #     for day_num in tqdm(SELECTED):\n",
    "# #\n",
    "# #         train_all = []\n",
    "# #         train_all = raw.iloc[:,:1]\n",
    "# #\n",
    "# #\n",
    "# #         # Price에 Outlier Treatment 적용 ---------------------#\n",
    "# #\n",
    "# #         winsor_list = []\n",
    "# #         winsor_list.append(WINSOR)\n",
    "# #         winsor_list.append(100 - WINSOR)\n",
    "# #\n",
    "# #         winsors = np.percentile(train_all['Price'][train_all.index < BASEDATE], winsor_list)\n",
    "# #         winsor_min = winsors[0]\n",
    "# #         winsor_max = winsors[1]\n",
    "# #\n",
    "# #         train_all['Price'][train_all.index < BASEDATE] = np.where(train_all['Price'][train_all.index < BASEDATE] < winsor_min, winsor_min, train_all['Price'][train_all.index < BASEDATE])\n",
    "# #         train_all['Price'][train_all.index < BASEDATE] = np.where(train_all['Price'][train_all.index < BASEDATE] > winsor_max, winsor_max, train_all['Price'][train_all.index < BASEDATE])\n",
    "# #\n",
    "# #         #-----------------------------------------------------#\n",
    "# #\n",
    "# #         V = pd.DataFrame(columns=['Volume'],index=raw.index)\n",
    "# #         for i in range(day_num, IRANGE + day_num):\n",
    "# #             train_all[f'Price_{i}lag'] = train_all['Price'].shift(i)\n",
    "# #\n",
    "# #         raw_all = train_all.iloc[day_num:]\n",
    "# #         raw_seed = raw_all.iloc[:,1:2]\n",
    "# #         raw_seed.columns=['Price']\n",
    "# #         raw_seed = feature_engineering(raw_seed)\n",
    "# #         seed = raw_seed.iloc[:,1:]\n",
    "# #         seed.index = raw_idx[day_num:]\n",
    "# #\n",
    "# #         if VARS == 2:  # 거래량을 사용할 경우에만 처리\n",
    "# #             V['Volume'] = raw['Volume']\n",
    "# #             V['Volume'] = V['Volume'].shift(1)\n",
    "# #             v_raw_seed = V[day_num:]\n",
    "# #             v_raw_seed = feature_engineering_v(v_raw_seed)\n",
    "# #             v_seed = v_raw_seed.iloc[:,1:]\n",
    "# #             v_seed.index = raw_idx[day_num:]\n",
    "# #\n",
    "# #             raw_final = pd.concat([raw_all['Price'],seed, v_seed], axis=1)\n",
    "# #         else:\n",
    "# #             raw_final = pd.concat([raw_all['Price'],seed], axis=1)\n",
    "# #\n",
    "# #         raw_final = raw_final.dropna(axis=0)  # NaN 결측치가 있는 경우, 학습대상에서 제외\n",
    "# #\n",
    "# #         train_old = raw_final[raw_final.index < BASEDATE]\n",
    "# #         test_new = raw_final[raw_final.index >= BASEDATE]\n",
    "# #\n",
    "# #\n",
    "# #         # 검증기간 데이터 FRAC 추가  ---------------------#\n",
    "# #\n",
    "# #         train_new = train_old.append(test_new.sample(frac=FRAC))\n",
    "# #\n",
    "# #         y_train_raw = train_new['Price']\n",
    "# #         x_train_raw = train_new.drop(['Price'],axis=1)\n",
    "# #\n",
    "# #         #-----------------------------------------------------#\n",
    "# #\n",
    "# #\n",
    "# #         # Min-Max Normalization 적용\n",
    "# #         scaler_X_tr = preprocessing.MinMaxScaler(feature_range=(0,1))\n",
    "# #         X_train = scaler_X_tr.fit_transform(x_train_raw)\n",
    "# #\n",
    "# #\n",
    "# #\n",
    "# #         # Validation 데이터을 학습에 사용할 경우에 대한 처리\n",
    "# #\n",
    "# #         if SPLIT == 0:\n",
    "# #             x_train = X_train\n",
    "# #             y_train = y_train_raw\n",
    "# #         else:\n",
    "# #             x_train = X_train[:-SPLIT]\n",
    "# #             y_train = y_train_raw[:-SPLIT]\n",
    "# #             x_valid = X_train[-SPLIT:]\n",
    "# #             y_valid = y_train_raw[-SPLIT:]\n",
    "# #\n",
    "# #             dvalid = lgb.Dataset(x_valid, label=y_valid)\n",
    "# #\n",
    "# #\n",
    "# #         # LGBM Training\n",
    "# #\n",
    "# #         dtrain = lgb.Dataset(x_train, label=y_train)\n",
    "# #\n",
    "# #         if SPLIT == 0:\n",
    "# #             model = lgb.train(PARAMS, dtrain, num_boost_round=ITER)\n",
    "# #         else:\n",
    "# #             model = lgb.train(PARAMS, dtrain, num_boost_round=ITER, valid_sets=dvalid, verbose_eval=False)\n",
    "# #\n",
    "# #         # Save model\n",
    "# #         joblib.dump(model,f'./{MODEL_DIR}/{PDCODE}_{SMCODE}V{VARS}_{MDCODE}wFE_{day_num}.pkl')\n",
    "# #\n",
    "# #\n",
    "# #         # 학습한 결과의 예측모델 출력  ---------------------#\n",
    "# #\n",
    "# #         y_train_real = train_old['Price']\n",
    "# #         x_train_pred = scaler_X_tr.fit_transform(train_old.drop(['Price'],axis=1))\n",
    "# #         y_train_pred = model.predict(x_train_pred)\n",
    "# #\n",
    "# #         print(f'{PDNAME} / {MDCODE}+FE / Model{day_num} Training Result\\n')\n",
    "# #\n",
    "# #         plot_data = pd.concat([pd.DataFrame(y_train_real.values, columns=['actual']), pd.DataFrame(y_train_pred, columns=['pred'])], axis=1)\n",
    "# #         date_label = pd.date_range(start=train_old.index[0], end=train_old.index[-1], freq='H')\n",
    "# #\n",
    "# #         fig, ax = plt.subplots(figsize=(15,6))\n",
    "# #\n",
    "# #         ax.plot(date_label, plot_data)\n",
    "# #\n",
    "# #         plt.title(PDNAME + ' / ' + MDCODE + '+FE / Model ' + str(day_num) + ' Training Result', fontsize=14)\n",
    "# #         plt.xlabel('Date', fontsize=10)\n",
    "# #         plt.ylabel('Price', fontsize=10)\n",
    "# #\n",
    "# #         dateFmt = mdates.DateFormatter('%y-%m-%d')\n",
    "# #         ax.xaxis.set_major_formatter(dateFmt)\n",
    "# #\n",
    "# #         plt.show()\n",
    "# #         plt.clf()\n",
    "# #\n",
    "# #         #-----------------------------------------------------#\n",
    "# #\n",
    "# #         x_test = test_new.iloc[:,1:]\n",
    "# #         y_test = test_new['Price']\n",
    "# #         X_test= scaler_X_tr.transform(x_test)\n",
    "# #         y_test_pred = model.predict(X_test)\n",
    "# #\n",
    "# #         pred.append(y_test_pred)"
   ],
   "metadata": {
    "collapsed": false,
    "pycharm": {
     "name": "#%%\n"
    }
   }
  },
  {
   "cell_type": "markdown",
   "source": [
    "# LGBM with FE / Visualization"
   ],
   "metadata": {
    "collapsed": false,
    "pycharm": {
     "name": "#%% md\n"
    }
   }
  },
  {
   "cell_type": "code",
   "execution_count": 66,
   "outputs": [],
   "source": [
    "# # for i in range(0, NSEL):\n",
    "# #\n",
    "# #     print(f'Model{SELECTED[i]} Results\\n')\n",
    "# #\n",
    "# #     plot_data = pd.DataFrame([y_test.values, pred[i]]).T\n",
    "# #     date_label = pd.date_range(start=x_test.index[0], end=x_test.index[-1], freq='H')\n",
    "# #\n",
    "# #     fig, ax = plt.subplots(figsize=(15,6))\n",
    "# #\n",
    "# #     plot_data.columns = ['actual','pred']\n",
    "# #     ax.plot(date_label, plot_data)\n",
    "# #\n",
    "# #     plt.title(PDNAME + ' / ' + MDCODE + '+FE / Model ' + str(SELECTED[i]) + ' Test Result', fontsize=14)\n",
    "# #     plt.xlabel('Date', fontsize=10)\n",
    "# #     plt.ylabel('Price', fontsize=10)\n",
    "# #\n",
    "# #     dateFmt = mdates.DateFormatter('%y-%m-%d')\n",
    "# #     ax.xaxis.set_major_formatter(dateFmt)\n",
    "# #\n",
    "# #     plt.show()\n",
    "# #     plt.clf()\n",
    "# #\n",
    "# #     MAPE = mean_absolute_percentage_error(y_test.values.flatten(), pred[i])*100\n",
    "# #     print(f'MAPE={MAPE}')\n",
    "# #\n",
    "# #     RMSE = np.sqrt(mean_squared_error(y_test.values.flatten(), pred[i]))\n",
    "# #     print(f'RMSE={RMSE}\\n\\n\\n')"
   ],
   "metadata": {
    "collapsed": false,
    "pycharm": {
     "name": "#%%\n"
    }
   }
  }
 ],
 "metadata": {
  "hide_input": false,
  "kernelspec": {
   "display_name": "Python 3 (ipykernel)",
   "language": "python",
   "name": "python3"
  },
  "language_info": {
   "codemirror_mode": {
    "name": "ipython",
    "version": 3
   },
   "file_extension": ".py",
   "mimetype": "text/x-python",
   "name": "python",
   "nbconvert_exporter": "python",
   "pygments_lexer": "ipython3",
   "version": "3.10.4"
  },
  "toc": {
   "base_numbering": 1,
   "nav_menu": {},
   "number_sections": true,
   "sideBar": true,
   "skip_h1_title": false,
   "title_cell": "Table of Contents",
   "title_sidebar": "Contents",
   "toc_cell": false,
   "toc_position": {},
   "toc_section_display": true,
   "toc_window_display": true
  },
  "varInspector": {
   "cols": {
    "lenName": 16,
    "lenType": 16,
    "lenVar": 40
   },
   "kernels_config": {
    "python": {
     "delete_cmd_postfix": "",
     "delete_cmd_prefix": "del ",
     "library": "var_list.py",
     "varRefreshCmd": "print(var_dic_list())"
    },
    "r": {
     "delete_cmd_postfix": ") ",
     "delete_cmd_prefix": "rm(",
     "library": "var_list.r",
     "varRefreshCmd": "cat(var_dic_list()) "
    }
   },
   "types_to_exclude": [
    "module",
    "function",
    "builtin_function_or_method",
    "instance",
    "_Feature"
   ],
   "window_display": false
  }
 },
 "nbformat": 4,
 "nbformat_minor": 5
}